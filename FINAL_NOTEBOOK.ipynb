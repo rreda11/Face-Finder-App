{
  "cells": [
    {
      "cell_type": "code",
      "execution_count": 1,
      "metadata": {
        "id": "-LeHXo3BQYD-"
      },
      "outputs": [
        {
          "name": "stdout",
          "output_type": "stream",
          "text": [
            "WARNING:tensorflow:From d:\\Rawan\\NTI\\final project\\Face-Finder-App\\.venv\\Lib\\site-packages\\keras\\src\\losses.py:2976: The name tf.losses.sparse_softmax_cross_entropy is deprecated. Please use tf.compat.v1.losses.sparse_softmax_cross_entropy instead.\n",
            "\n"
          ]
        }
      ],
      "source": [
        "from sklearn.datasets import fetch_lfw_people\n",
        "import tensorflow as tf\n",
        "import numpy as np\n",
        "from sklearn.model_selection import train_test_split\n",
        "import random\n",
        "from tensorflow.keras import layers, Model, regularizers\n",
        "from tensorflow.keras.layers import BatchNormalization, Dropout\n",
        "import tensorflow.keras.backend as K\n",
        "from sklearn.metrics import accuracy_score\n",
        "import matplotlib.pyplot as plt"
      ]
    },
    {
      "cell_type": "code",
      "execution_count": 2,
      "metadata": {
        "id": "Wxm7bsrrQhQV"
      },
      "outputs": [],
      "source": [
        "np.random.seed(42)\n",
        "tf.random.set_seed(42)"
      ]
    },
    {
      "cell_type": "markdown",
      "metadata": {},
      "source": [
        "# **Data Collection**"
      ]
    },
    {
      "cell_type": "code",
      "execution_count": 3,
      "metadata": {
        "colab": {
          "base_uri": "https://localhost:8080/"
        },
        "id": "-X8BhfWuQqtH",
        "outputId": "98e3ea88-2100-4bbb-9bea-8857e05231bf"
      },
      "outputs": [
        {
          "name": "stdout",
          "output_type": "stream",
          "text": [
            "(7606, 62, 47, 3)\n",
            "901\n",
            "{0, 1, 2, 3, 4, 5, 6, 7, 8, 9, 10, 11, 12, 13, 14, 15, 16, 17, 18, 19, 20, 21, 22, 23, 24, 25, 26, 27, 28, 29, 30, 31, 32, 33, 34, 35, 36, 37, 38, 39, 40, 41, 42, 43, 44, 45, 46, 47, 48, 49, 50, 51, 52, 53, 54, 55, 56, 57, 58, 59, 60, 61, 62, 63, 64, 65, 66, 67, 68, 69, 70, 71, 72, 73, 74, 75, 76, 77, 78, 79, 80, 81, 82, 83, 84, 85, 86, 87, 88, 89, 90, 91, 92, 93, 94, 95, 96, 97, 98, 99, 100, 101, 102, 103, 104, 105, 106, 107, 108, 109, 110, 111, 112, 113, 114, 115, 116, 117, 118, 119, 120, 121, 122, 123, 124, 125, 126, 127, 128, 129, 130, 131, 132, 133, 134, 135, 136, 137, 138, 139, 140, 141, 142, 143, 144, 145, 146, 147, 148, 149, 150, 151, 152, 153, 154, 155, 156, 157, 158, 159, 160, 161, 162, 163, 164, 165, 166, 167, 168, 169, 170, 171, 172, 173, 174, 175, 176, 177, 178, 179, 180, 181, 182, 183, 184, 185, 186, 187, 188, 189, 190, 191, 192, 193, 194, 195, 196, 197, 198, 199, 200, 201, 202, 203, 204, 205, 206, 207, 208, 209, 210, 211, 212, 213, 214, 215, 216, 217, 218, 219, 220, 221, 222, 223, 224, 225, 226, 227, 228, 229, 230, 231, 232, 233, 234, 235, 236, 237, 238, 239, 240, 241, 242, 243, 244, 245, 246, 247, 248, 249, 250, 251, 252, 253, 254, 255, 256, 257, 258, 259, 260, 261, 262, 263, 264, 265, 266, 267, 268, 269, 270, 271, 272, 273, 274, 275, 276, 277, 278, 279, 280, 281, 282, 283, 284, 285, 286, 287, 288, 289, 290, 291, 292, 293, 294, 295, 296, 297, 298, 299, 300, 301, 302, 303, 304, 305, 306, 307, 308, 309, 310, 311, 312, 313, 314, 315, 316, 317, 318, 319, 320, 321, 322, 323, 324, 325, 326, 327, 328, 329, 330, 331, 332, 333, 334, 335, 336, 337, 338, 339, 340, 341, 342, 343, 344, 345, 346, 347, 348, 349, 350, 351, 352, 353, 354, 355, 356, 357, 358, 359, 360, 361, 362, 363, 364, 365, 366, 367, 368, 369, 370, 371, 372, 373, 374, 375, 376, 377, 378, 379, 380, 381, 382, 383, 384, 385, 386, 387, 388, 389, 390, 391, 392, 393, 394, 395, 396, 397, 398, 399, 400, 401, 402, 403, 404, 405, 406, 407, 408, 409, 410, 411, 412, 413, 414, 415, 416, 417, 418, 419, 420, 421, 422, 423, 424, 425, 426, 427, 428, 429, 430, 431, 432, 433, 434, 435, 436, 437, 438, 439, 440, 441, 442, 443, 444, 445, 446, 447, 448, 449, 450, 451, 452, 453, 454, 455, 456, 457, 458, 459, 460, 461, 462, 463, 464, 465, 466, 467, 468, 469, 470, 471, 472, 473, 474, 475, 476, 477, 478, 479, 480, 481, 482, 483, 484, 485, 486, 487, 488, 489, 490, 491, 492, 493, 494, 495, 496, 497, 498, 499, 500, 501, 502, 503, 504, 505, 506, 507, 508, 509, 510, 511, 512, 513, 514, 515, 516, 517, 518, 519, 520, 521, 522, 523, 524, 525, 526, 527, 528, 529, 530, 531, 532, 533, 534, 535, 536, 537, 538, 539, 540, 541, 542, 543, 544, 545, 546, 547, 548, 549, 550, 551, 552, 553, 554, 555, 556, 557, 558, 559, 560, 561, 562, 563, 564, 565, 566, 567, 568, 569, 570, 571, 572, 573, 574, 575, 576, 577, 578, 579, 580, 581, 582, 583, 584, 585, 586, 587, 588, 589, 590, 591, 592, 593, 594, 595, 596, 597, 598, 599, 600, 601, 602, 603, 604, 605, 606, 607, 608, 609, 610, 611, 612, 613, 614, 615, 616, 617, 618, 619, 620, 621, 622, 623, 624, 625, 626, 627, 628, 629, 630, 631, 632, 633, 634, 635, 636, 637, 638, 639, 640, 641, 642, 643, 644, 645, 646, 647, 648, 649, 650, 651, 652, 653, 654, 655, 656, 657, 658, 659, 660, 661, 662, 663, 664, 665, 666, 667, 668, 669, 670, 671, 672, 673, 674, 675, 676, 677, 678, 679, 680, 681, 682, 683, 684, 685, 686, 687, 688, 689, 690, 691, 692, 693, 694, 695, 696, 697, 698, 699, 700, 701, 702, 703, 704, 705, 706, 707, 708, 709, 710, 711, 712, 713, 714, 715, 716, 717, 718, 719, 720, 721, 722, 723, 724, 725, 726, 727, 728, 729, 730, 731, 732, 733, 734, 735, 736, 737, 738, 739, 740, 741, 742, 743, 744, 745, 746, 747, 748, 749, 750, 751, 752, 753, 754, 755, 756, 757, 758, 759, 760, 761, 762, 763, 764, 765, 766, 767, 768, 769, 770, 771, 772, 773, 774, 775, 776, 777, 778, 779, 780, 781, 782, 783, 784, 785, 786, 787, 788, 789, 790, 791, 792, 793, 794, 795, 796, 797, 798, 799, 800, 801, 802, 803, 804, 805, 806, 807, 808, 809, 810, 811, 812, 813, 814, 815, 816, 817, 818, 819, 820, 821, 822, 823, 824, 825, 826, 827, 828, 829, 830, 831, 832, 833, 834, 835, 836, 837, 838, 839, 840, 841, 842, 843, 844, 845, 846, 847, 848, 849, 850, 851, 852, 853, 854, 855, 856, 857, 858, 859, 860, 861, 862, 863, 864, 865, 866, 867, 868, 869, 870, 871, 872, 873, 874, 875, 876, 877, 878, 879, 880, 881, 882, 883, 884, 885, 886, 887, 888, 889, 890, 891, 892, 893, 894, 895, 896, 897, 898, 899, 900}\n",
            "Gerhard Schroeder\n"
          ]
        }
      ],
      "source": [
        "\n",
        "lfw = fetch_lfw_people(color=True, min_faces_per_person=3)  \n",
        "X = lfw.images\n",
        "y = lfw.target\n",
        "names = lfw.target_names\n",
        "print(X.shape)        \n",
        "print(len(names))     \n",
        "print(set(y))         \n",
        "print(names[y[0]])    "
      ]
    },
    {
      "cell_type": "markdown",
      "metadata": {},
      "source": [
        "# **Preprocessing**"
      ]
    },
    {
      "cell_type": "code",
      "execution_count": 4,
      "metadata": {
        "colab": {
          "base_uri": "https://localhost:8080/"
        },
        "id": "yd2IzKLBQtEw",
        "outputId": "f9e84a5b-58cb-45a8-f49f-c9925bc972c9"
      },
      "outputs": [
        {
          "name": "stdout",
          "output_type": "stream",
          "text": [
            "Train set: (6084, 32, 32, 3) Test set: (1522, 32, 32, 3)\n"
          ]
        }
      ],
      "source": [
        "\n",
        "X = lfw.images.astype(\"float32\") / 255.0\n",
        "X_resized = np.array([tf.image.resize(img, (32, 32)).numpy() for img in X])  \n",
        "\n",
        "\n",
        "X_train, X_test, y_train, y_test = train_test_split(\n",
        "    X_resized, y, test_size=0.2, stratify=y, random_state=42\n",
        ")\n",
        "\n",
        "print(\"Train set:\", X_train.shape, \"Test set:\", X_test.shape)"
      ]
    },
    {
      "cell_type": "markdown",
      "metadata": {},
      "source": [
        "# **Generate Triplets**"
      ]
    },
    {
      "cell_type": "code",
      "execution_count": 5,
      "metadata": {
        "colab": {
          "base_uri": "https://localhost:8080/"
        },
        "id": "aUmT7K4JRBQ7",
        "outputId": "c31222c7-6950-4247-89a8-829d844919c2"
      },
      "outputs": [
        {
          "name": "stdout",
          "output_type": "stream",
          "text": [
            "Train triplets: (30000, 3, 32, 32, 3)\n"
          ]
        }
      ],
      "source": [
        "def generate_triplets(X, y, num_triplets=5000):\n",
        "    triplets = []\n",
        "    labels = np.unique(y)\n",
        "\n",
        "    \n",
        "    class_to_indices = {}\n",
        "    for c in labels:\n",
        "        class_to_indices[c] = np.where(y == c)[0]\n",
        "\n",
        "    \n",
        "    valid_classes = [c for c in labels if len(class_to_indices[c]) >= 2]\n",
        "\n",
        "    for _ in range(num_triplets):\n",
        "        anchor_label = random.choice(valid_classes)\n",
        "        anchor_idx, pos_idx = np.random.choice(class_to_indices[anchor_label], 2, replace=False)\n",
        "\n",
        "        \n",
        "        neg_classes = [c for c in valid_classes if c != anchor_label]\n",
        "        neg_label = random.choice(neg_classes)\n",
        "        neg_idx = np.random.choice(class_to_indices[neg_label])\n",
        "\n",
        "        triplets.append((X[anchor_idx], X[pos_idx], X[neg_idx]))\n",
        "\n",
        "    return np.array(triplets)\n",
        "\n",
        "\n",
        "train_triplets = generate_triplets(X_train, y_train, num_triplets=30000)\n",
        "print(\"Train triplets:\", train_triplets.shape)\n"
      ]
    },
    {
      "cell_type": "markdown",
      "metadata": {},
      "source": [
        "# **CNN**"
      ]
    },
    {
      "cell_type": "code",
      "execution_count": 6,
      "metadata": {
        "colab": {
          "base_uri": "https://localhost:8080/",
          "height": 801
        },
        "id": "U_kDpFYqRFnN",
        "outputId": "88eec5ed-74ad-4b1a-8910-f234faaa1c16"
      },
      "outputs": [
        {
          "name": "stdout",
          "output_type": "stream",
          "text": [
            "WARNING:tensorflow:From d:\\Rawan\\NTI\\final project\\Face-Finder-App\\.venv\\Lib\\site-packages\\keras\\src\\backend.py:1398: The name tf.executing_eagerly_outside_functions is deprecated. Please use tf.compat.v1.executing_eagerly_outside_functions instead.\n",
            "\n",
            "WARNING:tensorflow:From d:\\Rawan\\NTI\\final project\\Face-Finder-App\\.venv\\Lib\\site-packages\\keras\\src\\layers\\normalization\\batch_normalization.py:979: The name tf.nn.fused_batch_norm is deprecated. Please use tf.compat.v1.nn.fused_batch_norm instead.\n",
            "\n",
            "Model: \"model\"\n",
            "_________________________________________________________________\n",
            " Layer (type)                Output Shape              Param #   \n",
            "=================================================================\n",
            " input_1 (InputLayer)        [(None, 32, 32, 3)]       0         \n",
            "                                                                 \n",
            " conv2d (Conv2D)             (None, 32, 32, 32)        896       \n",
            "                                                                 \n",
            " batch_normalization (Batch  (None, 32, 32, 32)        128       \n",
            " Normalization)                                                  \n",
            "                                                                 \n",
            " max_pooling2d (MaxPooling2  (None, 16, 16, 32)        0         \n",
            " D)                                                              \n",
            "                                                                 \n",
            " dropout (Dropout)           (None, 16, 16, 32)        0         \n",
            "                                                                 \n",
            " conv2d_1 (Conv2D)           (None, 16, 16, 64)        18496     \n",
            "                                                                 \n",
            " batch_normalization_1 (Bat  (None, 16, 16, 64)        256       \n",
            " chNormalization)                                                \n",
            "                                                                 \n",
            " max_pooling2d_1 (MaxPoolin  (None, 8, 8, 64)          0         \n",
            " g2D)                                                            \n",
            "                                                                 \n",
            " dropout_1 (Dropout)         (None, 8, 8, 64)          0         \n",
            "                                                                 \n",
            " conv2d_2 (Conv2D)           (None, 8, 8, 128)         73856     \n",
            "                                                                 \n",
            " batch_normalization_2 (Bat  (None, 8, 8, 128)         512       \n",
            " chNormalization)                                                \n",
            "                                                                 \n",
            " max_pooling2d_2 (MaxPoolin  (None, 4, 4, 128)         0         \n",
            " g2D)                                                            \n",
            "                                                                 \n",
            " dropout_2 (Dropout)         (None, 4, 4, 128)         0         \n",
            "                                                                 \n",
            " flatten (Flatten)           (None, 2048)              0         \n",
            "                                                                 \n",
            " dense (Dense)               (None, 256)               524544    \n",
            "                                                                 \n",
            " batch_normalization_3 (Bat  (None, 256)               1024      \n",
            " chNormalization)                                                \n",
            "                                                                 \n",
            " dropout_3 (Dropout)         (None, 256)               0         \n",
            "                                                                 \n",
            " dense_1 (Dense)             (None, 128)               32896     \n",
            "                                                                 \n",
            " lambda (Lambda)             (None, 128)               0         \n",
            "                                                                 \n",
            "=================================================================\n",
            "Total params: 652608 (2.49 MB)\n",
            "Trainable params: 651648 (2.49 MB)\n",
            "Non-trainable params: 960 (3.75 KB)\n",
            "_________________________________________________________________\n"
          ]
        }
      ],
      "source": [
        "def embedding_model(input_shape=(32, 32, 3), embedding_dim=128):\n",
        "    inputs = layers.Input(shape=input_shape)\n",
        "\n",
        "    # Block 1\n",
        "    x = layers.Conv2D(32, (3, 3), activation='relu', padding='same')(inputs)\n",
        "    x = BatchNormalization()(x)\n",
        "    x = layers.MaxPooling2D()(x)\n",
        "    x = Dropout(0.2)(x)\n",
        "\n",
        "    # Block 2\n",
        "    x = layers.Conv2D(64, (3, 3), activation='relu', padding='same')(x)\n",
        "    x = BatchNormalization()(x)\n",
        "    x = layers.MaxPooling2D()(x)\n",
        "    x = Dropout(0.3)(x)\n",
        "\n",
        "    # Block 3\n",
        "    x = layers.Conv2D(128, (3, 3), activation='relu', padding='same')(x)\n",
        "    x = BatchNormalization()(x)\n",
        "    x = layers.MaxPooling2D()(x)\n",
        "    x = Dropout(0.4)(x)\n",
        "\n",
        "    # Dense embedding\n",
        "    x = layers.Flatten()(x)\n",
        "    x = layers.Dense(\n",
        "        256,\n",
        "        activation='relu',\n",
        "        kernel_regularizer=regularizers.l2(0.001)\n",
        "    )(x)\n",
        "    x = BatchNormalization()(x)\n",
        "    x = Dropout(0.5)(x)\n",
        "\n",
        "    x = layers.Dense(embedding_dim)(x)\n",
        "\n",
        "    # L2-normalized output\n",
        "    outputs = layers.Lambda(lambda t: tf.math.l2_normalize(t, axis=1))(x)\n",
        "\n",
        "    return Model(inputs, outputs)\n",
        "\n",
        "embedder = embedding_model()\n",
        "embedder.summary()"
      ]
    },
    {
      "cell_type": "markdown",
      "metadata": {},
      "source": [
        "# **Triplet loss**"
      ]
    },
    {
      "cell_type": "code",
      "execution_count": 7,
      "metadata": {
        "id": "LZlawBs3RLIF"
      },
      "outputs": [],
      "source": [
        "def triplet_loss(margin=0.5):\n",
        "    def loss(y_true, y_pred):\n",
        "        anchor, positive, negative = y_pred[:, 0, :], y_pred[:, 1, :], y_pred[:, 2, :]\n",
        "        pos_dist = K.sum(K.square(anchor - positive), axis=1)\n",
        "        neg_dist = K.sum(K.square(anchor - negative), axis=1)\n",
        "        return K.mean(K.maximum(pos_dist - neg_dist + margin, 0))\n",
        "    return loss"
      ]
    },
    {
      "cell_type": "code",
      "execution_count": 8,
      "metadata": {
        "id": "gMy7HWMjRNu6"
      },
      "outputs": [],
      "source": [
        "def build_triplet_model(embedder, input_shape=(32,32, 3)):\n",
        "    anchor_input = layers.Input(input_shape)\n",
        "    positive_input = layers.Input(input_shape)\n",
        "    negative_input = layers.Input(input_shape)\n",
        "\n",
        "    anchor_emb = embedder(anchor_input)\n",
        "    pos_emb = embedder(positive_input)\n",
        "    neg_emb = embedder(negative_input)\n",
        "\n",
        "    merged = layers.Concatenate(axis=1)([anchor_emb, pos_emb, neg_emb])\n",
        "\n",
        "    # Reshape to have a third dimension\n",
        "    output = layers.Reshape((3, embedder.output_shape[-1]))(merged)\n",
        "\n",
        "    model = Model([anchor_input, positive_input, negative_input], output)\n",
        "    return model "
      ]
    },
    {
      "cell_type": "code",
      "execution_count": 9,
      "metadata": {
        "id": "KK8C5UN2RQ_Z"
      },
      "outputs": [],
      "source": [
        "triplet_model = build_triplet_model(embedder)\n",
        "triplet_model.compile(optimizer=tf.keras.optimizers.Adam(learning_rate=0.0001), loss=triplet_loss(margin=0.5))\n",
        "\n",
        "anchors = train_triplets[:, 0]\n",
        "positives = train_triplets[:, 1]\n",
        "negatives = train_triplets[:, 2]\n",
        "\n",
        "# Generate validation triplets\n",
        "val_triplets = generate_triplets(X_test, y_test, num_triplets=5000)\n",
        "val_anchors = val_triplets[:, 0]\n",
        "val_positives = val_triplets[:, 1]\n",
        "val_negatives = val_triplets[:, 2]\n",
        "\n",
        "# Add callbacks\n",
        "reduce_lr = tf.keras.callbacks.ReduceLROnPlateau(\n",
        "    monitor='val_loss', factor=0.5, patience=3, min_lr=1e-7\n",
        ")\n",
        "\n",
        "early_stopping = tf.keras.callbacks.EarlyStopping(\n",
        "    monitor='val_loss', patience=5, restore_best_weights=True\n",
        ")\n",
        "\n"
      ]
    },
    {
      "cell_type": "markdown",
      "metadata": {},
      "source": [
        "# **Train the model**"
      ]
    },
    {
      "cell_type": "code",
      "execution_count": 10,
      "metadata": {
        "colab": {
          "base_uri": "https://localhost:8080/"
        },
        "id": "u2T99nUxYM7h",
        "outputId": "0c98d532-0132-4aaf-89a3-1716d8ccf10b"
      },
      "outputs": [
        {
          "name": "stdout",
          "output_type": "stream",
          "text": [
            "Epoch 1/30\n",
            "WARNING:tensorflow:From d:\\Rawan\\NTI\\final project\\Face-Finder-App\\.venv\\Lib\\site-packages\\keras\\src\\utils\\tf_utils.py:492: The name tf.ragged.RaggedTensorValue is deprecated. Please use tf.compat.v1.ragged.RaggedTensorValue instead.\n",
            "\n",
            "938/938 [==============================] - 26s 26ms/step - loss: 0.8438 - val_loss: 0.7681 - lr: 1.0000e-04\n",
            "Epoch 2/30\n",
            "938/938 [==============================] - 24s 26ms/step - loss: 0.7219 - val_loss: 0.6827 - lr: 1.0000e-04\n",
            "Epoch 3/30\n",
            "938/938 [==============================] - 26s 28ms/step - loss: 0.6364 - val_loss: 0.5966 - lr: 1.0000e-04\n",
            "Epoch 4/30\n",
            "938/938 [==============================] - 29s 30ms/step - loss: 0.5613 - val_loss: 0.5353 - lr: 1.0000e-04\n",
            "Epoch 5/30\n",
            "938/938 [==============================] - 24s 25ms/step - loss: 0.5028 - val_loss: 0.4790 - lr: 1.0000e-04\n",
            "Epoch 6/30\n",
            "938/938 [==============================] - 24s 26ms/step - loss: 0.4470 - val_loss: 0.4234 - lr: 1.0000e-04\n",
            "Epoch 7/30\n",
            "938/938 [==============================] - 24s 26ms/step - loss: 0.4000 - val_loss: 0.3888 - lr: 1.0000e-04\n",
            "Epoch 8/30\n",
            "938/938 [==============================] - 24s 26ms/step - loss: 0.3576 - val_loss: 0.3660 - lr: 1.0000e-04\n",
            "Epoch 9/30\n",
            "938/938 [==============================] - 24s 26ms/step - loss: 0.3242 - val_loss: 0.3309 - lr: 1.0000e-04\n",
            "Epoch 10/30\n",
            "938/938 [==============================] - 24s 26ms/step - loss: 0.2918 - val_loss: 0.3029 - lr: 1.0000e-04\n",
            "Epoch 11/30\n",
            "938/938 [==============================] - 25s 27ms/step - loss: 0.2673 - val_loss: 0.3127 - lr: 1.0000e-04\n",
            "Epoch 12/30\n",
            "938/938 [==============================] - 25s 26ms/step - loss: 0.2444 - val_loss: 0.2695 - lr: 1.0000e-04\n",
            "Epoch 13/30\n",
            "938/938 [==============================] - 25s 26ms/step - loss: 0.2273 - val_loss: 0.2576 - lr: 1.0000e-04\n",
            "Epoch 14/30\n",
            "938/938 [==============================] - 26s 27ms/step - loss: 0.2097 - val_loss: 0.2546 - lr: 1.0000e-04\n",
            "Epoch 15/30\n",
            "938/938 [==============================] - 25s 26ms/step - loss: 0.1968 - val_loss: 0.3069 - lr: 1.0000e-04\n",
            "Epoch 16/30\n",
            "938/938 [==============================] - 26s 28ms/step - loss: 0.1840 - val_loss: 0.2482 - lr: 1.0000e-04\n",
            "Epoch 17/30\n",
            "938/938 [==============================] - 24s 26ms/step - loss: 0.1728 - val_loss: 0.2304 - lr: 1.0000e-04\n",
            "Epoch 18/30\n",
            "938/938 [==============================] - 24s 26ms/step - loss: 0.1646 - val_loss: 0.4823 - lr: 1.0000e-04\n",
            "Epoch 19/30\n",
            "938/938 [==============================] - 25s 26ms/step - loss: 0.1558 - val_loss: 0.2883 - lr: 1.0000e-04\n",
            "Epoch 20/30\n",
            "938/938 [==============================] - 25s 26ms/step - loss: 0.1475 - val_loss: 0.2198 - lr: 1.0000e-04\n",
            "Epoch 21/30\n",
            "938/938 [==============================] - 24s 26ms/step - loss: 0.1413 - val_loss: 0.2518 - lr: 1.0000e-04\n",
            "Epoch 22/30\n",
            "938/938 [==============================] - 24s 26ms/step - loss: 0.1367 - val_loss: 0.2538 - lr: 1.0000e-04\n",
            "Epoch 23/30\n",
            "938/938 [==============================] - 25s 26ms/step - loss: 0.1316 - val_loss: 0.2413 - lr: 1.0000e-04\n",
            "Epoch 24/30\n",
            "938/938 [==============================] - 24s 26ms/step - loss: 0.1237 - val_loss: 0.2603 - lr: 5.0000e-05\n",
            "Epoch 25/30\n",
            "938/938 [==============================] - 25s 26ms/step - loss: 0.1169 - val_loss: 0.1993 - lr: 5.0000e-05\n",
            "Epoch 26/30\n",
            "938/938 [==============================] - 25s 26ms/step - loss: 0.1130 - val_loss: 0.1898 - lr: 5.0000e-05\n",
            "Epoch 27/30\n",
            "938/938 [==============================] - 25s 26ms/step - loss: 0.1093 - val_loss: 0.2148 - lr: 5.0000e-05\n",
            "Epoch 28/30\n",
            "938/938 [==============================] - 25s 26ms/step - loss: 0.1068 - val_loss: 0.2059 - lr: 5.0000e-05\n",
            "Epoch 29/30\n",
            "938/938 [==============================] - 24s 26ms/step - loss: 0.1048 - val_loss: 0.2013 - lr: 5.0000e-05\n",
            "Epoch 30/30\n",
            "938/938 [==============================] - 25s 26ms/step - loss: 0.1000 - val_loss: 0.1653 - lr: 2.5000e-05\n"
          ]
        }
      ],
      "source": [
        "\n",
        "history = triplet_model.fit(\n",
        "    [anchors, positives, negatives],\n",
        "    np.zeros(len(anchors)),  # dummy labels\n",
        "    batch_size=32,\n",
        "    epochs=30,\n",
        "    validation_data=([val_anchors, val_positives, val_negatives], np.zeros(len(val_anchors))),\n",
        "    callbacks=[reduce_lr, early_stopping],\n",
        "    verbose=1\n",
        ")"
      ]
    },
    {
      "cell_type": "markdown",
      "metadata": {},
      "source": [
        "# **Evaluation**"
      ]
    },
    {
      "cell_type": "code",
      "execution_count": 11,
      "metadata": {
        "id": "IWAAJuiSRWnA"
      },
      "outputs": [
        {
          "data": {
            "text/plain": [
              "<matplotlib.legend.Legend at 0x1d20d972150>"
            ]
          },
          "execution_count": 11,
          "metadata": {},
          "output_type": "execute_result"
        },
        {
          "data": {
            "image/png": "[encoded data removed]",
            "text/plain": [
              "<Figure size 1200x400 with 1 Axes>"
            ]
          },
          "metadata": {},
          "output_type": "display_data"
        }
      ],
      "source": [
        "\n",
        "plt.figure(figsize=(12, 4))\n",
        "plt.subplot(1, 2, 1)\n",
        "plt.plot(history.history['loss'], label='Training Loss')\n",
        "plt.plot(history.history['val_loss'], label='Validation Loss')\n",
        "plt.title('Triplet Loss')\n",
        "plt.xlabel('Epoch')\n",
        "plt.ylabel('Loss')\n",
        "plt.legend()"
      ]
    },
    {
      "cell_type": "code",
      "execution_count": 12,
      "metadata": {
        "colab": {
          "base_uri": "https://localhost:8080/"
        },
        "id": "_1jq_x4FSu8a",
        "outputId": "c7b77ecd-f194-474f-9537-fd4e8c7f61f2"
      },
      "outputs": [
        {
          "name": "stdout",
          "output_type": "stream",
          "text": [
            "Best threshold: 0.95\n"
          ]
        }
      ],
      "source": [
        "def evaluate_verification(embedder, X, y, num_pairs=1000, threshold=0.7):\n",
        "    pairs = []\n",
        "    labels = []\n",
        "\n",
        "    unique_classes = np.unique(y)\n",
        "    # Precompute indices for each class\n",
        "    class_to_indices = {c: np.where(y == c)[0] for c in unique_classes}\n",
        "\n",
        "    # Filter classes with at least 2 samples\n",
        "    valid_classes = [c for c in unique_classes if len(class_to_indices[c]) >= 2]\n",
        "\n",
        "    for _ in range(num_pairs):\n",
        "        if np.random.rand() > 0.5:  # positive pair\n",
        "            c = np.random.choice(valid_classes)\n",
        "            a, b = np.random.choice(class_to_indices[c], 2, replace=False)\n",
        "            pairs.append((X[a], X[b]))\n",
        "            labels.append(1)\n",
        "        else:  # negative pair\n",
        "            c1, c2 = np.random.choice(valid_classes, 2, replace=False)\n",
        "            a = np.random.choice(class_to_indices[c1])\n",
        "            b = np.random.choice(class_to_indices[c2])\n",
        "            pairs.append((X[a], X[b]))\n",
        "            labels.append(0)\n",
        "\n",
        "    X1 = np.array([p[0] for p in pairs])\n",
        "    X2 = np.array([p[1] for p in pairs])\n",
        "    y_true = np.array(labels)\n",
        "\n",
        "    emb1 = embedder.predict(X1, verbose=0)\n",
        "    emb2 = embedder.predict(X2, verbose=0)\n",
        "\n",
        "    distances = np.linalg.norm(emb1 - emb2, axis=1)\n",
        "    y_pred = (distances < threshold).astype(int)\n",
        "\n",
        "    acc = accuracy_score(y_true, y_pred)\n",
        "\n",
        "    # Calculate precision and recall\n",
        "    tp = np.sum((y_true == 1) & (y_pred == 1))\n",
        "    fp = np.sum((y_true == 0) & (y_pred == 1))\n",
        "    fn = np.sum((y_true == 1) & (y_pred == 0))\n",
        "\n",
        "    precision = tp / (tp + fp) if (tp + fp) > 0 else 0\n",
        "    recall = tp / (tp + fn) if (tp + fn) > 0 else 0\n",
        "\n",
        "    return acc, precision, recall, distances, y_true\n",
        "\n",
        "# Evaluate with different thresholds to find the optimal one\n",
        "thresholds = np.arange(0.5, 1.0, 0.05)\n",
        "best_threshold = 0.7\n",
        "best_acc = 0\n",
        "\n",
        "for threshold in thresholds:\n",
        "    train_acc, train_precision, train_recall, _, _ = evaluate_verification(embedder, X_train, y_train, num_pairs=2000, threshold=threshold)\n",
        "    if train_acc > best_acc:\n",
        "        best_acc = train_acc\n",
        "        best_threshold = threshold\n",
        "\n",
        "print(f\"Best threshold: {best_threshold:.2f}\")"
      ]
    },
    {
      "cell_type": "code",
      "execution_count": 13,
      "metadata": {
        "colab": {
          "base_uri": "https://localhost:8080/"
        },
        "id": "gkedTu-4cWAB",
        "outputId": "bebedc12-f8f3-490d-bf6a-f65d4425d6f4"
      },
      "outputs": [
        {
          "name": "stdout",
          "output_type": "stream",
          "text": [
            "Verification Accuracy (Train): 0.9175, Precision: 0.9266, Recall: 0.9030\n",
            "Verification Accuracy (Test): 0.7770, Precision: 0.8872, Recall: 0.6322\n"
          ]
        }
      ],
      "source": [
        "#  with the best threshold\n",
        "train_acc, train_precision, train_recall, _, _ = evaluate_verification(embedder, X_train, y_train, num_pairs=2000, threshold=best_threshold)\n",
        "test_acc, test_precision, test_recall, _, _ = evaluate_verification(embedder, X_test, y_test, num_pairs=2000, threshold=best_threshold)\n",
        "\n",
        "print(f\"Verification Accuracy (Train): {train_acc:.4f}, Precision: {train_precision:.4f}, Recall: {train_recall:.4f}\")\n",
        "print(f\"Verification Accuracy (Test): {test_acc:.4f}, Precision: {test_precision:.4f}, Recall: {test_recall:.4f}\")"
      ]
    },
    {
      "cell_type": "markdown",
      "metadata": {},
      "source": [
        "# **Save The Model**"
      ]
    },
    {
      "cell_type": "code",
      "execution_count": 14,
      "metadata": {
        "colab": {
          "base_uri": "https://localhost:8080/"
        },
        "id": "fJGiTMV2cm98",
        "outputId": "b11fbb23-d21e-4d23-ae48-77dc8a20a423"
      },
      "outputs": [
        {
          "name": "stdout",
          "output_type": "stream",
          "text": [
            "WARNING:tensorflow:Compiled the loaded model, but the compiled metrics have yet to be built. `model.compile_metrics` will be empty until you train or evaluate the model.\n",
            "Model saved as 'lfw_embedding_model.h5'\n"
          ]
        },
        {
          "name": "stderr",
          "output_type": "stream",
          "text": [
            "d:\\Rawan\\NTI\\final project\\Face-Finder-App\\.venv\\Lib\\site-packages\\keras\\src\\engine\\training.py:3103: UserWarning: You are saving your model as an HDF5 file via `model.save()`. This file format is considered legacy. We recommend using instead the native Keras format, e.g. `model.save('my_model.keras')`.\n",
            "  saving_api.save_model(\n"
          ]
        }
      ],
      "source": [
        "\n",
        "embedder.save('lfw_embedding_model.h5')\n",
        "print(\"Model saved as 'lfw_embedding_model.h5'\")"
      ]
    },
    {
      "cell_type": "code",
      "execution_count": 15,
      "metadata": {
        "id": "0P1-5URncqQ0"
      },
      "outputs": [],
      "source": [
        "embedder.save_weights(\"lfw_embedding_model.weights.h5\")"
      ]
    },
    {
      "cell_type": "code",
      "execution_count": 16,
      "metadata": {
        "id": "9Xe2EeKfljwb"
      },
      "outputs": [],
      "source": [
        "embedder.save(\"lfw_embedding_model.keras\")"
      ]
    },
    {
      "cell_type": "code",
      "execution_count": null,
      "metadata": {
        "id": "wu8YmtY7BHMk"
      },
      "outputs": [],
      "source": []
    }
  ],
  "metadata": {
    "accelerator": "GPU",
    "colab": {
      "gpuType": "T4",
      "provenance": []
    },
    "kernelspec": {
      "display_name": ".venv",
      "language": "python",
      "name": "python3"
    },
    "language_info": {
      "codemirror_mode": {
        "name": "ipython",
        "version": 3
      },
      "file_extension": ".py",
      "mimetype": "text/x-python",
      "name": "python",
      "nbconvert_exporter": "python",
      "pygments_lexer": "ipython3",
      "version": "3.11.9"
    }
  },
  "nbformat": 4,
  "nbformat_minor": 0
}
